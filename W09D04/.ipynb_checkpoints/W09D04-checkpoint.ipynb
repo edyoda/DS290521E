{
 "cells": [
  {
   "cell_type": "code",
   "execution_count": 1,
   "metadata": {},
   "outputs": [],
   "source": [
    "dict1 = {\n",
    "\t\"number\": 4,\n",
    "\t\"people\": [{\n",
    "\t\t\"craft\": \"ISS\",\n",
    "\t\t\"name\": \"Chris Cassidy\"\n",
    "\t}, {\n",
    "\t\t\"craft\": \"ISS\",\n",
    "\t\t\"name\": \"Anatoly Ivanishin\"\n",
    "\t}, {\n",
    "\t\t\"craft\": \"ISS\",\n",
    "\t\t\"name\": \"Ivan Vagner\"\n",
    "\t}, {\n",
    "\t\t\"craft\": \"fivecube\",\n",
    "\t\t\"name\": \"Mohit Singh Chouhan\"\n",
    "\t}],\n",
    "\t\"message\": \"success\"\n",
    "}"
   ]
  },
  {
   "cell_type": "code",
   "execution_count": 2,
   "metadata": {},
   "outputs": [],
   "source": [
    "import json"
   ]
  },
  {
   "cell_type": "code",
   "execution_count": 3,
   "metadata": {},
   "outputs": [],
   "source": [
    "dump_data = json.dumps(dict1)"
   ]
  },
  {
   "cell_type": "code",
   "execution_count": 4,
   "metadata": {},
   "outputs": [
    {
     "data": {
      "text/plain": [
       "str"
      ]
     },
     "execution_count": 4,
     "metadata": {},
     "output_type": "execute_result"
    }
   ],
   "source": [
    "type(dump_data)"
   ]
  },
  {
   "cell_type": "code",
   "execution_count": null,
   "metadata": {},
   "outputs": [],
   "source": [
    "REQUESTS"
   ]
  },
  {
   "cell_type": "code",
   "execution_count": 13,
   "metadata": {},
   "outputs": [
    {
     "name": "stdout",
     "output_type": "stream",
     "text": [
      "Requirement already satisfied: requests in c:\\users\\mohit\\appdata\\local\\programs\\python\\python38-32\\lib\\site-packages (2.24.0)\n",
      "Requirement already satisfied: certifi>=2017.4.17 in c:\\users\\mohit\\appdata\\local\\programs\\python\\python38-32\\lib\\site-packages (from requests) (2020.6.20)\n",
      "Requirement already satisfied: urllib3!=1.25.0,!=1.25.1,<1.26,>=1.21.1 in c:\\users\\mohit\\appdata\\local\\programs\\python\\python38-32\\lib\\site-packages (from requests) (1.25.10)\n",
      "Requirement already satisfied: chardet<4,>=3.0.2 in c:\\users\\mohit\\appdata\\local\\programs\\python\\python38-32\\lib\\site-packages (from requests) (3.0.4)\n",
      "Requirement already satisfied: idna<3,>=2.5 in c:\\users\\mohit\\appdata\\local\\programs\\python\\python38-32\\lib\\site-packages (from requests) (2.10)\n",
      "Note: you may need to restart the kernel to use updated packages.\n"
     ]
    },
    {
     "name": "stderr",
     "output_type": "stream",
     "text": [
      "WARNING: You are using pip version 19.2.3, however version 21.2.1 is available.\n",
      "You should consider upgrading via the 'python -m pip install --upgrade pip' command.\n"
     ]
    }
   ],
   "source": [
    "pip install requests"
   ]
  },
  {
   "cell_type": "code",
   "execution_count": 14,
   "metadata": {},
   "outputs": [],
   "source": [
    "WHAT ARE APIS"
   ]
  },
  {
   "cell_type": "code",
   "execution_count": null,
   "metadata": {},
   "outputs": [],
   "source": [
    "API'S ARE GENERALLY USE TO EXCHANGE DATA. (JSON IS MOSTLY USED TO INTERCHANGE THE DATA WITH THE APIS)\n",
    "\n",
    "CONSIDER THAT YOU ARE IN A RESTRAUNT\n",
    "1) CALL THE WAITER\n",
    "2) YOU WILL TELL HIM THE ORDER DETAILS (LIKE PIZZA AND COLD DRINKS)\n",
    "3) WAITER WILL GO BACK IN THE KITCHEN AND TELL CHEF TO MAKE A PIZZA, AND PREPARE COLD DRINKS IN GLASSES.\n",
    "4) WAITER WILL COME BACK AFTER SOME TIME WITH PREPARED FOOD (PIZZA AND COLD DRINKS)\n",
    "\n",
    "API ARE ANLOGOUS TO WAITER API===WAITER\n",
    "\n",
    "1) GENERATE THE API\n",
    "2) YOU WILL GIVE IT SOME INFO (PAYLOAD(IF IT IS A POST REQUEST)) , (PARAMETERS(IF IT IS A GET REQUEST)) AND WE WILL MAKE THE ORDER\n",
    "3) API WILL GO BACK TO THE SERVER SIDE LOGIC WHICH MIGHT ACCESS THE DB, AND PREPARE THE DATA\n",
    "4) API WILL COME BACK WITH THE RESPONSE."
   ]
  },
  {
   "cell_type": "code",
   "execution_count": null,
   "metadata": {},
   "outputs": [],
   "source": [
    "NORMAL WEBSITES VS API'S\n",
    "\n",
    "NORMAL WEBSITES ARE FOR HUMAN READABILITY AND ACCESSIBILITY\n",
    "\n",
    "BUT API'S ARE USED BY CODE TO READ AND ACCESS THE DATA\n",
    "\n",
    "API'S WILL GIVE DATA IN JSONS, OR OTHER CODE READABLE FORMAT\n",
    "\n",
    "NORMAL WEBSITES GIVE DATA IN HTML OR HUMAN READABLE FORMAT."
   ]
  },
  {
   "cell_type": "code",
   "execution_count": 17,
   "metadata": {},
   "outputs": [],
   "source": [
    "# Example of API'S\n",
    "\n",
    "https://api.stackexchange.com/docs/answers#order=desc&sort=activity&filter=default&site=stackoverflow\n",
    "    \n",
    "https://api.stackexchange.com/docs/answers#page=5&pagesize=5&order=desc&sort=activity&filter=default&site=stackoverflow\n",
    "    \n",
    "https://corona-virus-world-and-india-data.p.rapidapi.com/api_india"
   ]
  },
  {
   "cell_type": "code",
   "execution_count": 21,
   "metadata": {},
   "outputs": [],
   "source": [
    "import requests\n",
    "\n",
    "url = \"https://corona-virus-world-and-india-data.p.rapidapi.com/api_india\"\n",
    "\n",
    "headers = {\n",
    "  'x-rapidapi-host': 'corona-virus-world-and-india-data.p.rapidapi.com',\n",
    "  'x-rapidapi-key': 'f1503f90c1msh8c6f6079c76f7f4p11da66jsneb0130349249'\n",
    "}\n",
    "\n",
    "response = requests.request(\"GET\", url, headers=headers)\n",
    "\n",
    "coronavirus_data = response.json()"
   ]
  },
  {
   "cell_type": "code",
   "execution_count": 22,
   "metadata": {},
   "outputs": [
    {
     "data": {
      "text/plain": [
       "dict"
      ]
     },
     "execution_count": 22,
     "metadata": {},
     "output_type": "execute_result"
    }
   ],
   "source": [
    "type(coronavirus_data)"
   ]
  },
  {
   "cell_type": "code",
   "execution_count": 32,
   "metadata": {},
   "outputs": [],
   "source": [
    "# coronavirus_data['state_wise']['Kerala']"
   ]
  },
  {
   "cell_type": "code",
   "execution_count": null,
   "metadata": {},
   "outputs": [],
   "source": [
    "How to Create APIS:\n",
    "    Using Frameworks like django,flask,"
   ]
  },
  {
   "cell_type": "code",
   "execution_count": 33,
   "metadata": {},
   "outputs": [],
   "source": [
    "import requests\n",
    "\n",
    "url = \"http://127.0.0.1:8000/apple\"\n",
    "\n",
    "response = requests.request(\"GET\", url)\n",
    "\n",
    "coronavirus_data = response.json()"
   ]
  },
  {
   "cell_type": "code",
   "execution_count": 29,
   "metadata": {},
   "outputs": [
    {
     "data": {
      "text/plain": [
       "{'hello': 'world'}"
      ]
     },
     "execution_count": 29,
     "metadata": {},
     "output_type": "execute_result"
    }
   ],
   "source": [
    "coronavirus_data"
   ]
  },
  {
   "cell_type": "code",
   "execution_count": 30,
   "metadata": {},
   "outputs": [],
   "source": [
    "import requests\n",
    "\n",
    "url = \"http://127.0.0.1:8000/mango\"\n",
    "\n",
    "response = requests.request(\"GET\", url)\n",
    "\n",
    "coronavirus_data = response.json()"
   ]
  },
  {
   "cell_type": "code",
   "execution_count": 31,
   "metadata": {},
   "outputs": [
    {
     "data": {
      "text/plain": [
       "{'mango': 'tasty'}"
      ]
     },
     "execution_count": 31,
     "metadata": {},
     "output_type": "execute_result"
    }
   ],
   "source": [
    "coronavirus_data"
   ]
  },
  {
   "cell_type": "code",
   "execution_count": null,
   "metadata": {},
   "outputs": [],
   "source": [
    "url = 'https://httpbin.org/post'\n",
    "payload = {'fruit':'juice'}"
   ]
  }
 ],
 "metadata": {
  "kernelspec": {
   "display_name": "Python 3",
   "language": "python",
   "name": "python3"
  },
  "language_info": {
   "codemirror_mode": {
    "name": "ipython",
    "version": 3
   },
   "file_extension": ".py",
   "mimetype": "text/x-python",
   "name": "python",
   "nbconvert_exporter": "python",
   "pygments_lexer": "ipython3",
   "version": "3.8.3"
  }
 },
 "nbformat": 4,
 "nbformat_minor": 4
}
