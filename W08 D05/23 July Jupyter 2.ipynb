{
 "cells": [
  {
   "cell_type": "code",
   "execution_count": null,
   "metadata": {},
   "outputs": [],
   "source": [
    "# try and exception with multiple exceptions\n",
    "\n",
    "\n",
    "try:\n",
    "    x = float(input(\"Your number: \"))\n",
    "    inverse = 1.0 / x\n",
    "except Exception as e:\n",
    "    print(\"Unexpected error occurred---please try after some time\")\n",
    "finally:\n",
    "    print(\"Bye\")\n",
    "\n",
    "\n",
    "\n",
    "    "
   ]
  },
  {
   "cell_type": "code",
   "execution_count": null,
   "metadata": {},
   "outputs": [],
   "source": [
    "try:\n",
    "    x = float(input(\"Your number: \"))\n",
    "    inverse = 1.0 / x\n",
    "except ZeroDivisionError:\n",
    "    print(\"No zero please\")  \n",
    "except ValueError:\n",
    "    print(\"no strings please\")\n",
    "finally:\n",
    "    print(\"Bye\")\n"
   ]
  },
  {
   "cell_type": "code",
   "execution_count": null,
   "metadata": {},
   "outputs": [],
   "source": [
    "# Pipelines Generators\n",
    "\n",
    "def FS(nums):\n",
    "    x,y= 0,1\n",
    "    for i in range(nums):\n",
    "        x,y = y, x+y\n",
    "        yield x\n",
    "\n",
    "result = FS(15)\n",
    "\n"
   ]
  },
  {
   "cell_type": "code",
   "execution_count": null,
   "metadata": {},
   "outputs": [],
   "source": [
    "\n",
    "def S(nums):\n",
    "    for num in nums:\n",
    "        yield num**2\n",
    "        \n",
    "result2 = S([1,2,3,4])"
   ]
  },
  {
   "cell_type": "code",
   "execution_count": null,
   "metadata": {},
   "outputs": [],
   "source": [
    "next(result2)"
   ]
  },
  {
   "cell_type": "code",
   "execution_count": null,
   "metadata": {},
   "outputs": [],
   "source": [
    "print(sum(S(FS(10))))"
   ]
  },
  {
   "cell_type": "code",
   "execution_count": null,
   "metadata": {},
   "outputs": [],
   "source": [
    "list1 = [1,2,3,4]\n",
    "A = (x**2 for x in list1)\n"
   ]
  },
  {
   "cell_type": "code",
   "execution_count": null,
   "metadata": {},
   "outputs": [],
   "source": [
    "next(A)"
   ]
  },
  {
   "cell_type": "code",
   "execution_count": null,
   "metadata": {},
   "outputs": [],
   "source": [
    "import pandas as pd\n",
    "df = pd.read_csv('C:\\Yogesh_WFM\\EDYODA\\medals.csv')\n",
    "\n",
    "print(df.head(2))\n",
    "\n"
   ]
  },
  {
   "cell_type": "code",
   "execution_count": null,
   "metadata": {},
   "outputs": [],
   "source": [
    "import csv\n",
    "with open('C:\\Yogesh_WFM\\EDYODA\\medals.csv',\"r\") as f:\n",
    "    f = csv.reader(f)\n",
    "    for row in f:\n",
    "        print(row)\n",
    "    \n",
    "\n",
    "    \n",
    "    "
   ]
  },
  {
   "cell_type": "code",
   "execution_count": null,
   "metadata": {},
   "outputs": [],
   "source": [
    "len(df.columns)"
   ]
  },
  {
   "cell_type": "code",
   "execution_count": null,
   "metadata": {},
   "outputs": [],
   "source": [
    "import xml.etree.ElementTree as ET\n",
    "\n",
    "NAME = []\n",
    "PHONE = []\n",
    "EMAIL =[]\n",
    "DATE = []\n",
    "\n",
    "DICT =dict()\n",
    "\n",
    "t = ET.parse('C:\\Yogesh_WFM\\EDYODA\\TEST3.xml')\n",
    "base = t.getroot()\n",
    "\n",
    "print(base)\n",
    "\n",
    "for e in base.findall('employee'):\n",
    "    \n",
    "    name = e.find('name').text\n",
    "    NAME.append(name)\n",
    "    \n",
    "    phone =  e.find('phone').text\n",
    "    PHONE.append(phone)\n",
    "    \n",
    "    email =  e.find('email').text\n",
    "    EMAIL.append(email)\n",
    "    \n",
    "    date =  e.find('date').text\n",
    "    DATE.append(date)\n",
    "    \n",
    "print(NAME,PHONE,EMAIL,DATE)\n",
    "\n",
    "df= pd.DataFrame()\n",
    "df['COMPANY'] =['EDYODA','EDYODA','EDYODA']\n",
    "df['NAME'] = NAME\n",
    "df['PHONE'] = PHONE\n",
    "df['EMAIL'] = EMAIL\n",
    "df['DATE'] = DATE\n",
    "\n",
    "\n",
    "df.to_csv('C:\\Yogesh_WFM\\EDYODA\\EDYODA_LIVE_XML_to_CSV.csv',index=False)"
   ]
  },
  {
   "cell_type": "code",
   "execution_count": null,
   "metadata": {},
   "outputs": [],
   "source": [
    "t = ET.parse('C:\\Yogesh_WFM\\EDYODA\\TEST3.xml')"
   ]
  },
  {
   "cell_type": "code",
   "execution_count": null,
   "metadata": {},
   "outputs": [],
   "source": []
  },
  {
   "cell_type": "code",
   "execution_count": null,
   "metadata": {},
   "outputs": [],
   "source": [
    "t.getroot()"
   ]
  },
  {
   "cell_type": "code",
   "execution_count": null,
   "metadata": {},
   "outputs": [],
   "source": [
    "base = t.getroot()\n",
    "E = base.findall('employee')"
   ]
  },
  {
   "cell_type": "code",
   "execution_count": null,
   "metadata": {},
   "outputs": [],
   "source": [
    "NAME = []\n",
    "\n",
    "for e in E:\n",
    "    print(e.find('name').text)\n",
    "    NAME.append(e.find('name').text)\n",
    "    print(NAME)\n",
    "    \n",
    "    "
   ]
  },
  {
   "cell_type": "code",
   "execution_count": null,
   "metadata": {},
   "outputs": [],
   "source": [
    "import requests as r\n",
    "\n",
    "R = r.get('https://www.aljazeera.com/news/2020/06/03/coronavirus-travel-restrictions-border-shutdowns-by-country/')\n",
    "print(R.status_code)"
   ]
  },
  {
   "cell_type": "code",
   "execution_count": null,
   "metadata": {},
   "outputs": [],
   "source": [
    "#block1 = lister-item mode-advanced\n",
    "\n",
    "#block2 = lister-item-content\n",
    "\n",
    "#Anchor tag ----<a></a>\n",
    "\n",
    "\n",
    "import requests as r\n",
    "R = r.get('https://www.imdb.com/search/title/?groups=top_250&sort=user_rating')\n",
    "from bs4 import BeautifulSoup as bs\n",
    "soup = bs(R.text, 'html.parser')"
   ]
  },
  {
   "cell_type": "code",
   "execution_count": null,
   "metadata": {},
   "outputs": [],
   "source": [
    "#MOV =soup.find_all('div',class_ ='lister-item mode-advanced')\n",
    "\n",
    "mov = soup.find('div',class_ ='lister-item mode-advanced')\n",
    "\n"
   ]
  },
  {
   "cell_type": "code",
   "execution_count": null,
   "metadata": {},
   "outputs": [],
   "source": [
    "\n",
    "    "
   ]
  },
  {
   "cell_type": "code",
   "execution_count": null,
   "metadata": {},
   "outputs": [],
   "source": [
    "A = soup.find_all('div',class_= \"lister-item mode-advanced\")\n",
    "len(A)\n",
    "\n",
    "for i in A:\n",
    "    x=i.find_all('h3')\n",
    "    for j in x:\n",
    "        print(j.find('span',class_= 'lister-item-year text-muted unbold').get_text())\n"
   ]
  },
  {
   "cell_type": "code",
   "execution_count": null,
   "metadata": {},
   "outputs": [],
   "source": [
    "df = pd.read_csv('C:\\Yogesh_WFM\\EDYODA\\medals.csv')\n",
    "#print(df.head())\n",
    "#print(df.tail(10))\n",
    "#print(df.shape)\n",
    "#print(df.columns)\n",
    "#print(df[['Year','Sport']])\n",
    "#df['Year_short'] = df['Year']/100\n",
    "print(df)\n",
    "df['City'].value_counts()"
   ]
  },
  {
   "cell_type": "code",
   "execution_count": null,
   "metadata": {},
   "outputs": [],
   "source": []
  },
  {
   "cell_type": "code",
   "execution_count": null,
   "metadata": {},
   "outputs": [],
   "source": []
  }
 ],
 "metadata": {
  "kernelspec": {
   "display_name": "Python 3",
   "language": "python",
   "name": "python3"
  },
  "language_info": {
   "codemirror_mode": {
    "name": "ipython",
    "version": 3
   },
   "file_extension": ".py",
   "mimetype": "text/x-python",
   "name": "python",
   "nbconvert_exporter": "python",
   "pygments_lexer": "ipython3",
   "version": "3.6.4"
  }
 },
 "nbformat": 4,
 "nbformat_minor": 2
}
