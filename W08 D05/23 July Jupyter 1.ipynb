{
 "cells": [
  {
   "cell_type": "code",
   "execution_count": null,
   "metadata": {},
   "outputs": [],
   "source": [
    "s1 = 'ABCDCDC'\n",
    "s2 = 'CDC'\n",
    "\n",
    "s1.count('CD')\n"
   ]
  },
  {
   "cell_type": "code",
   "execution_count": null,
   "metadata": {},
   "outputs": [],
   "source": [
    "#datetime.date(year, month, day)\n",
    "#datetime.time(hour=0, minute=0, second=0, microsecond=0)\n",
    "#datetime.datetime(year, month, day, hour=0, minute=0, second=0, microsecond=0\n",
    "\n",
    "\n",
    "from datetime import time\n",
    "  \n",
    "Time = time(11, 34, 56)\n",
    "  \n",
    "print(\"hour =\", Time.hour)\n",
    "print(\"minute =\", Time.minute)\n",
    "print(\"second =\", Time.second)\n",
    "print(\"microsecond =\", Time.microsecond)"
   ]
  },
  {
   "cell_type": "code",
   "execution_count": null,
   "metadata": {},
   "outputs": [],
   "source": [
    "\n",
    "\n",
    "\n",
    "import datetime\n",
    "\n",
    "x = datetime.datetime(2018, 6, 1,12,30,30)\n",
    "print(x)\n",
    "print(x.strftime(\"%A\"))"
   ]
  },
  {
   "cell_type": "code",
   "execution_count": null,
   "metadata": {},
   "outputs": [],
   "source": [
    "%a\tWeekday, short version\tWed\t\n",
    "%A\tWeekday, full version\tWednesday\t\n",
    "%w\tWeekday as a number 0-6, 0 is Sunday\t3\t\n",
    "%d\tDay of month 01-31\t31\t\n",
    "%b\tMonth name, short version\tDec\t\n",
    "%B\tMonth name, full version\tDecember\t\n",
    "%m\tMonth as a number 01-12\t12\t\n",
    "%y\tYear, short version, without century\t18\t\n",
    "%Y\tYear, full version\t2018"
   ]
  },
  {
   "cell_type": "code",
   "execution_count": null,
   "metadata": {},
   "outputs": [],
   "source": [
    "#strftime(datestamp, format)\n",
    "#strptime(date_string, format)\n",
    "\n",
    "\n",
    "import datetime \n",
    "from datetime import datetime\n",
    "now = datetime.now()\n",
    "print(now)\n",
    "now.strftime(\"%Y-%m-%d %H:%M:%S\")\n",
    "now.strftime(\"%Y-%b-%d %H:%M:%S\")\n",
    "now.strftime(\"%Y/%b/%A %H:%M:%S\")"
   ]
  },
  {
   "cell_type": "code",
   "execution_count": null,
   "metadata": {},
   "outputs": [],
   "source": [
    "#strptime to parse strings\n",
    "#strftime to parse format\n",
    "\n",
    "x = \"23/2020/September 8:28\"\n",
    "\n",
    "\n",
    "import datetime\n",
    "datetime.datetime.strptime(x,\"%d/%Y/%B %H:%M\")"
   ]
  },
  {
   "cell_type": "code",
   "execution_count": null,
   "metadata": {},
   "outputs": [],
   "source": [
    "try:\n",
    "    #CRITICAL---probability of error occurring is high\n",
    "    x = float(input(\"Your number: \"))\n",
    "    inverse = 1.0 / x\n",
    "    \n",
    "except ValueError:\n",
    "    #Normal STATEMENT PROB is LESS\n",
    "    print(\"You should have given either an int or a float\")\n",
    "    \n",
    "except ZeroDivisionError:\n",
    "    print(\"Infinity\")\n",
    "    \n",
    "\n",
    "finally:\n",
    "    print(\"There may or may not have been an exception.\")\n"
   ]
  },
  {
   "cell_type": "code",
   "execution_count": null,
   "metadata": {},
   "outputs": [],
   "source": [
    "#anonymous gen functions gen expression (wo yield and def)\n",
    "A = (x**2 for x in [10,20,30])\n"
   ]
  },
  {
   "cell_type": "code",
   "execution_count": null,
   "metadata": {},
   "outputs": [],
   "source": [
    "next(A)"
   ]
  },
  {
   "cell_type": "code",
   "execution_count": null,
   "metadata": {},
   "outputs": [],
   "source": [
    "#two methods to read csv:- 1. open and csv reader 2. \n",
    "#Pandas and read_csv\n",
    "#pandas deals with dataframes (a table structure)\n",
    "\n",
    "\n",
    "import pandas as pd\n",
    "df = pd.read_csv('C:\\Yogesh_WFM\\EDYODA\\medals.csv')\n",
    "print(df.head(2))\n",
    "\n",
    "\n",
    "import csv\n",
    "with open('C:\\Yogesh_WFM\\EDYODA\\medals.csv',\"r\") as f:\n",
    "    file  = csv.reader(f) \n",
    "    for row in file:\n",
    "        print(row)\n",
    "        \n",
    "\n",
    "\n"
   ]
  },
  {
   "cell_type": "code",
   "execution_count": null,
   "metadata": {},
   "outputs": [],
   "source": [
    "# xml parsing with ElementTree (find, findall)\n",
    "# BeautifulSoup was for html parsing (find, find_all)\n",
    "#Company > EMPLOYEE > Details\n",
    "\n",
    "\n",
    "import xml.etree.ElementTree as ET\n",
    "tree = ET.parse('C:\\Yogesh_WFM\\EDYODA\\TEST3.xml')\n",
    "base  = tree.getroot()\n",
    "\n",
    "\n",
    "\n",
    "for e in base.findall('employee'):\n",
    "    print(e.find('name').text)\n",
    "    print(e.find('phone').text)\n",
    "    print(e.find('email').text)\n",
    "    print(e.find('date').text)\n",
    "\n",
    "\n"
   ]
  },
  {
   "cell_type": "code",
   "execution_count": null,
   "metadata": {},
   "outputs": [],
   "source": [
    "\n",
    "base.find('employee')"
   ]
  },
  {
   "cell_type": "code",
   "execution_count": null,
   "metadata": {},
   "outputs": [],
   "source": [
    "#server (facebook data store) and client (your personal computer) communicate\n",
    "# client makes a request\n",
    "# server responds\n",
    "\n",
    "import requests as r\n",
    "r.get('https://www.aljazeera.com/news/2020/06/03/coronavirus-travel-restrictions-border-shutdowns-by-country/')\n"
   ]
  },
  {
   "cell_type": "code",
   "execution_count": null,
   "metadata": {},
   "outputs": [],
   "source": [
    "#from collections import Counter\n",
    "# in delhi string elh, del, hi are a substring\n",
    "# overlapping substrings\n",
    "\n",
    "\n",
    "str1 = 'ABCDCDC'\n",
    "print(str1.count('CDC'))\n",
    "\n"
   ]
  },
  {
   "cell_type": "code",
   "execution_count": null,
   "metadata": {},
   "outputs": [],
   "source": [
    "import re \n",
    "str1 = 'CDCD'\n",
    "\n",
    "len(re.findall('(?=CD)', str1))\n"
   ]
  },
  {
   "cell_type": "code",
   "execution_count": null,
   "metadata": {},
   "outputs": [],
   "source": [
    "\n",
    "\n",
    "\n",
    "pos = s1.find(s2, 5) \n",
    "pos\n",
    "\n",
    "\n",
    "#find(substring,start)"
   ]
  },
  {
   "cell_type": "code",
   "execution_count": null,
   "metadata": {},
   "outputs": [],
   "source": []
  },
  {
   "cell_type": "code",
   "execution_count": null,
   "metadata": {},
   "outputs": [],
   "source": [
    "s1 = 'ABCDCDC'\n",
    "s2 =\"CDC\"\n",
    "pos = s1.find(s2, 0) \n",
    "print(pos)\n",
    "\n",
    "pos = pos+pos\n",
    "print(s1.find(s2, pos))\n",
    "\n",
    "pos = pos+pos\n",
    "print(s1.find(s2, pos))"
   ]
  },
  {
   "cell_type": "code",
   "execution_count": null,
   "metadata": {},
   "outputs": [],
   "source": [
    "s1 = 'ABCDCDC'\n",
    "s1.count(\"CDC\")"
   ]
  },
  {
   "cell_type": "code",
   "execution_count": null,
   "metadata": {},
   "outputs": [],
   "source": [
    "s1 = 'ABCDCDC'\n",
    "s2 =\"CDC\"\n",
    "pos = s1.find(s2, 6) \n",
    "print(pos)"
   ]
  },
  {
   "cell_type": "code",
   "execution_count": null,
   "metadata": {},
   "outputs": [],
   "source": []
  }
 ],
 "metadata": {
  "kernelspec": {
   "display_name": "Python 3",
   "language": "python",
   "name": "python3"
  },
  "language_info": {
   "codemirror_mode": {
    "name": "ipython",
    "version": 3
   },
   "file_extension": ".py",
   "mimetype": "text/x-python",
   "name": "python",
   "nbconvert_exporter": "python",
   "pygments_lexer": "ipython3",
   "version": "3.6.4"
  }
 },
 "nbformat": 4,
 "nbformat_minor": 2
}
