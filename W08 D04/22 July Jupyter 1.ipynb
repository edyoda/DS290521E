{
 "cells": [
  {
   "cell_type": "code",
   "execution_count": null,
   "metadata": {},
   "outputs": [],
   "source": [
    "# COLLECTIONS\n",
    "\n",
    "#deque\n",
    "#counter\n",
    "#OrderdDict\n",
    "#Chainmap\n",
    "\n",
    "#Datetime\n",
    "\n",
    "# append()\n",
    "# appendleft()\n",
    "# extend\n",
    "# extendleft\n",
    "# insert\n",
    "# pop\n",
    "# popleft\n",
    "\n",
    "\n",
    "\n",
    "#1. DeQUE\n",
    "#2. Counter\n",
    "#3. OrderedDict\n",
    "\n",
    "\n",
    "dq = collections.deque([4,5,6])\n",
    "\n",
    "print(dq)\n",
    "dq.append([7,3])\n",
    "print(dq)\n",
    "dq.appendleft(300)\n",
    "print(dq)\n",
    "dq.insert(5,-10)\n",
    "print(dq)\n",
    "dq.pop()\n",
    "print(dq)\n",
    "dq.popleft()\n",
    "print(dq)\n"
   ]
  },
  {
   "cell_type": "code",
   "execution_count": null,
   "metadata": {
    "scrolled": false
   },
   "outputs": [],
   "source": [
    "import numpy\n",
    "dir(numpy)"
   ]
  },
  {
   "cell_type": "code",
   "execution_count": null,
   "metadata": {},
   "outputs": [],
   "source": [
    "from collections import Counter \n",
    "list1 = ['x','x','y','y','z','z','z']\n",
    "#print(Counter(list1))\n",
    "\n",
    "str1 = \"I am in a live session on EDYODA\"\n",
    "print(Counter(str1[:9]))"
   ]
  },
  {
   "cell_type": "code",
   "execution_count": null,
   "metadata": {},
   "outputs": [],
   "source": [
    "C =Counter()\n",
    "C.update((1,2,3,4,4,4,4,4,'x','x'))\n",
    "\n",
    "print(C)\n",
    "del C['x']\n",
    "print(C)"
   ]
  },
  {
   "cell_type": "code",
   "execution_count": null,
   "metadata": {},
   "outputs": [],
   "source": [
    "for i in C.elements():\n",
    "    print(i)"
   ]
  },
  {
   "cell_type": "code",
   "execution_count": null,
   "metadata": {},
   "outputs": [],
   "source": [
    "a = 'aabcdefghojnklcnknvkndvnvslsd'\n",
    "\n",
    "print(Counter(a))\n",
    "\n",
    "A =Counter(a)\n",
    "for i in A.elements():\n",
    "    print(i)"
   ]
  },
  {
   "cell_type": "raw",
   "metadata": {},
   "source": [
    "from collections import OrderedDict"
   ]
  },
  {
   "cell_type": "code",
   "execution_count": null,
   "metadata": {},
   "outputs": [],
   "source": [
    "OD = collections.OrderedDict({'a':1,'b':2,'c':3})\n",
    "\n",
    "\n",
    "D ={}\n",
    "D[''] = 1\n",
    "D['b'] = 2\n",
    "D['c'] = 3\n",
    "\n",
    "print(D)\n"
   ]
  },
  {
   "cell_type": "code",
   "execution_count": null,
   "metadata": {},
   "outputs": [],
   "source": [
    "OD -----available 3.7\n",
    "D\n",
    "{'aa': 'First number', 'bb': 'Second number', 'cc': 'Third number'}\n",
    "\n",
    "D\n",
    "{'aa': 'First number', 'cc': 'Third number', 'bb': 'Second number'}"
   ]
  },
  {
   "cell_type": "code",
   "execution_count": null,
   "metadata": {},
   "outputs": [],
   "source": [
    "#Chainmap\n",
    "\n",
    "\n",
    "\n",
    "OI = {'TV':1,'Batteries':2}\n",
    "FMCG = {'soap':3,'shampoo':4}\n",
    "PANTRY = {'floor':5,'lentils':6}\n",
    "\n",
    "C = collections.ChainMap(OI,FMCG,PANTRY)\n",
    "print(C)\n"
   ]
  },
  {
   "cell_type": "code",
   "execution_count": null,
   "metadata": {},
   "outputs": [],
   "source": [
    "list(reversed(C.maps))"
   ]
  },
  {
   "cell_type": "code",
   "execution_count": null,
   "metadata": {},
   "outputs": [],
   "source": [
    "C.maps"
   ]
  },
  {
   "cell_type": "code",
   "execution_count": null,
   "metadata": {},
   "outputs": [],
   "source": [
    "#datetime\n",
    "\n",
    "import datetime as dt\n",
    "\n",
    "x = dt.datetime.now()\n",
    "print(x)\n",
    "\n",
    "y = dt.date.today()\n",
    "print(y)\n",
    "\n",
    "from datetime import time\n",
    "z = time(21,8,50)\n",
    "z1 = time()\n",
    "\n",
    "\n",
    "\n",
    "from datetime import datetime\n",
    "\n",
    "z2 = datetime(2021,7,21,21,9,30)\n",
    "print(z,z1,z2)\n",
    "\n"
   ]
  },
  {
   "cell_type": "code",
   "execution_count": null,
   "metadata": {},
   "outputs": [],
   "source": [
    "#now = dt.datetime.now()\n",
    "\n",
    "#print(now.strftime(\"%B\"))\n",
    "\n",
    "\n",
    "TS = \"12-11-2020 09:18:35\"\n",
    "print(TS)\n",
    "\n",
    "datetime.strptime(TS,\"%d-%m-%Y %H:%M:%S\")"
   ]
  },
  {
   "cell_type": "code",
   "execution_count": null,
   "metadata": {},
   "outputs": [],
   "source": [
    "dir(datetime)"
   ]
  },
  {
   "cell_type": "code",
   "execution_count": null,
   "metadata": {},
   "outputs": [],
   "source": [
    "import random\n",
    "A = random.choice([1,2,3,4,5])\n",
    "print(A)\n",
    "\n",
    "def sq(x):\n",
    "    if x==4:\n",
    "        yield yes\n",
    "    else:\n",
    "        True\n",
    "        \n",
    "        \n",
    "next(sq(A))"
   ]
  },
  {
   "cell_type": "code",
   "execution_count": null,
   "metadata": {},
   "outputs": [],
   "source": [
    "#mport pandas as pd\n",
    "#f = pd.read_csv('http://winterolympicsmedals.com/medals.csv')\n",
    "#f.head()\n",
    "\n",
    "\n",
    "with open('http://winterolympicsmedals.com/medals.csv','r') as f:\n",
    "    print(f.readline())"
   ]
  },
  {
   "cell_type": "code",
   "execution_count": null,
   "metadata": {},
   "outputs": [],
   "source": [
    "import requests as r\n",
    "A = r.get('https://www.aljazeera.com/news/2020/06/03/coronavirus-travel-restrictions-border-shutdowns-by-country/')\n",
    "A.status_code"
   ]
  },
  {
   "cell_type": "code",
   "execution_count": null,
   "metadata": {},
   "outputs": [],
   "source": [
    "import requests as r\n",
    "from bs4 import BeautifulSoup\n",
    "wiki = \"https://www.imdb.com/search/title/?groups=top_250&sort=user_rating\"\n",
    "page = r.get(wiki)\n",
    "soup = BeautifulSoup(page.text,'html.parser')"
   ]
  },
  {
   "cell_type": "code",
   "execution_count": null,
   "metadata": {},
   "outputs": [],
   "source": []
  },
  {
   "cell_type": "code",
   "execution_count": null,
   "metadata": {},
   "outputs": [],
   "source": [
    "A = soup.find_all('div',class_= \"lister-item mode-advanced\")\n",
    "len(A)\n",
    "\n",
    "for i in A:\n",
    "    x=i.find_all('h3')\n",
    "    for j in x:\n",
    "        print(j.find('a').get_text())\n",
    "    "
   ]
  },
  {
   "cell_type": "code",
   "execution_count": null,
   "metadata": {},
   "outputs": [],
   "source": [
    "right_table"
   ]
  },
  {
   "cell_type": "code",
   "execution_count": null,
   "metadata": {},
   "outputs": [],
   "source": [
    "right_table=soup.find('table', class_='wikitable sortable plainrowheaders')"
   ]
  },
  {
   "cell_type": "code",
   "execution_count": null,
   "metadata": {},
   "outputs": [],
   "source": [
    "for row in right_table.find_all(\"tr\"):\n",
    "    cells = row.find_all('td')\n",
    "    states=row.find_all('th') #To store second column data\n",
    "    if len(cells)==6: #Only extract table body not heading\n",
    "        A.append(cells[0].find(text=True))\n",
    "        B.append(states[0].find(text=True))\n",
    "        C.append(cells[1].find(text=True))\n",
    "        D.append(cells[2].find(text=True))\n",
    "        E.append(cells[3].find(text=True))\n",
    "        F.append(cells[4].find(text=True))\n",
    "        G.append(cells[5].find(text=True))\n",
    "#import pandas to convert list to data frame\n",
    "import pandas as pd\n",
    "df=pd.DataFrame(A,columns=['Number'])\n",
    "df['State/UT']=B\n",
    "df['Admin_Capital']=C\n",
    "df['Legislative_Capital']=D\n",
    "df['Judiciary_Capital']=E\n",
    "df['Year_Capital']=F\n",
    "df['Former_Capital']=G\n",
    "df"
   ]
  },
  {
   "cell_type": "code",
   "execution_count": null,
   "metadata": {},
   "outputs": [],
   "source": [
    "row = right_table.find(\"tr\")"
   ]
  },
  {
   "cell_type": "code",
   "execution_count": null,
   "metadata": {},
   "outputs": [],
   "source": [
    "cells = row.find_all('td')"
   ]
  },
  {
   "cell_type": "code",
   "execution_count": null,
   "metadata": {},
   "outputs": [],
   "source": [
    "cells\n"
   ]
  },
  {
   "cell_type": "code",
   "execution_count": null,
   "metadata": {},
   "outputs": [],
   "source": []
  }
 ],
 "metadata": {
  "kernelspec": {
   "display_name": "Python 3",
   "language": "python",
   "name": "python3"
  },
  "language_info": {
   "codemirror_mode": {
    "name": "ipython",
    "version": 3
   },
   "file_extension": ".py",
   "mimetype": "text/x-python",
   "name": "python",
   "nbconvert_exporter": "python",
   "pygments_lexer": "ipython3",
   "version": "3.6.4"
  }
 },
 "nbformat": 4,
 "nbformat_minor": 2
}
