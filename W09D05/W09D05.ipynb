{
 "cells": [
  {
   "cell_type": "code",
   "execution_count": 31,
   "metadata": {},
   "outputs": [],
   "source": [
    "class bookmymovie:\n",
    "    def __init__(self):\n",
    "        self.row = int(input('Enter the number of rows\\n'))\n",
    "        self.col = int(input('Enter the number of seats in each row\\n'))\n",
    "        self.no_of_seats = self.row * self.col\n",
    "        self.matrix = []\n",
    "        self.seat_count = 0\n",
    "        self.current_income = 0\n",
    "        self.total_income = 0\n",
    "        self.u_details = {}\n",
    "        \n",
    "        for i in range(self.row):\n",
    "            a = []\n",
    "            for j in range(self.col):\n",
    "                a.append('S')\n",
    "            self.matrix.append(a)\n",
    "        self.total_revenue()\n",
    "            \n",
    "    def show_seats(self):\n",
    "        print('\\nCinema:')\n",
    "        print(end='  ')\n",
    "        for j in range(1,self.col+1):\n",
    "            print(j,end=\" \")\n",
    "        print()\n",
    "        a = 0\n",
    "        for i in self.matrix:\n",
    "            a+=1\n",
    "            print(a,end=' ')\n",
    "            print(' '.join(i),sep=\",\")\n",
    "            \n",
    "    def buy(self):\n",
    "        a = int(input('Enter the row you want to book\\n'))\n",
    "        b = int(input('Enter the column you want to book\\n'))\n",
    "        if self.matrix[a-1][b-1] == \"B\":\n",
    "            print('This seat is already booked!!')\n",
    "            return\n",
    "        elif self.no_of_seats < 60:\n",
    "            price = 10\n",
    "            print('Ticket per person is $10, do you want to proceed ahead? Press Y/y')\n",
    "        elif a < self.row//2:\n",
    "            price = 10\n",
    "            print('Ticket per person is $10, do you want to proceed ahead? Press Y/y')\n",
    "        else:\n",
    "            price = 8\n",
    "            print('Ticket per person is $8, do you want to proceed ahead? Press Y/y')\n",
    "        \n",
    "        user_input = input()\n",
    "        \n",
    "        if user_input == 'Y' or user_input == 'y':\n",
    "            u_dict = {}\n",
    "            Uname = input('For Booking, Enter your name\\n')\n",
    "            Ugen = input('Enter your gender\\n')\n",
    "            UAge = input('Enter your Age\\n')\n",
    "            UPn = input('Enter your Phone Number\\n')\n",
    "            self.matrix[a-1][b-1] = \"B\"\n",
    "            self.seat_count+=1\n",
    "            self.current_income += price\n",
    "            u_dict[(a,b)] = [Uname,Ugen,UAge,UPn,price]\n",
    "            self.u_details.update(u_dict)\n",
    "            print('Booked Successfully!!')\n",
    "        else:\n",
    "            print(\"Booking could not be processed!\\n\")\n",
    "    \n",
    "    def info(self):\n",
    "        check_a = int(input('Enter the row you booked\\n'))\n",
    "        check_b = int(input('Enter the col you booked\\n'))\n",
    "        \n",
    "        if self.matrix[check_a-1][check_b-1] == \"B\":\n",
    "            user = self.u_details[(check_a,check_b)]\n",
    "            print('Name: ',user[0])\n",
    "            print('Gender: ',user[1])\n",
    "            print('Age: ',user[2])\n",
    "            print('Phone No: ',user[3])\n",
    "            print('Ticket Price: ',user[4])\n",
    "        else:\n",
    "            print(\"This seat is not booked yet!\")\n",
    "    \n",
    "    def total_revenue(self):\n",
    "        if self.no_of_seats < 60:\n",
    "            self.total_income = self.no_of_seats*10\n",
    "        elif self.no_of_seats >= 60:\n",
    "            first_half_income = (self.row//2)*self.col*10\n",
    "            second_half_income = (self.row - self.row//2)*self.col*8\n",
    "            self.total_income = first_half_income+second_half_income\n",
    "            \n",
    "    def stats(self):\n",
    "        print('Number of Purchased Tickets: ',self.seat_count)\n",
    "        self.percentage = (self.seat_count/self.no_of_seats)*100\n",
    "        print('Percentage of Tickets booked ',\"{:.2f}\".format(self.percentage))\n",
    "        print('Current Income: ',self.current_income)\n",
    "        print('Total Income: ',self.total_income)\n",
    "    \n",
    "    def menu(self):\n",
    "        ans = True\n",
    "        while ans:\n",
    "            print(\"\\nEnter the number corresponding to what you want to choose:\")\n",
    "            self.choice = int(input('\\n1. Show the seats\\n2. Buy a Ticket\\n3. Statistics\\n4. Show Booked Tickets User Info\\n0.Exit\\n'))\n",
    "            if self.choice == 1:\n",
    "                self.show_seats()\n",
    "            elif self.choice == 2:\n",
    "                self.buy()\n",
    "            elif self.choice == 3:\n",
    "                self.stats()\n",
    "            elif self.choice == 4:\n",
    "                self.info()\n",
    "            elif self.choice == 0:\n",
    "                ans = False\n",
    "            else:\n",
    "                print('\\nNot Valid Choice, Try Again!!')"
   ]
  },
  {
   "cell_type": "code",
   "execution_count": 32,
   "metadata": {},
   "outputs": [
    {
     "name": "stdout",
     "output_type": "stream",
     "text": [
      "Enter the number of rows\n",
      "7\n",
      "Enter the number of seats in each row\n",
      "9\n",
      "\n",
      "Enter the number corresponding to what you want to choose:\n",
      "\n",
      "1. Show the seats\n",
      "2. Buy a Ticket\n",
      "3. Statistics\n",
      "4. Show Booked Tickets User Info\n",
      "0.Exit\n",
      "3\n",
      "Number of Purchased Tickets:  0\n",
      "Percentage of Tickets booked  0.00\n",
      "Current Income:  0\n",
      "Total Income:  558\n",
      "\n",
      "Enter the number corresponding to what you want to choose:\n",
      "\n",
      "1. Show the seats\n",
      "2. Buy a Ticket\n",
      "3. Statistics\n",
      "4. Show Booked Tickets User Info\n",
      "0.Exit\n",
      "1\n",
      "\n",
      "Cinema:\n",
      "  1 2 3 4 5 6 7 8 9 \n",
      "1 S S S S S S S S S\n",
      "2 S S S S S S S S S\n",
      "3 S S S S S S S S S\n",
      "4 S S S S S S S S S\n",
      "5 S S S S S S S S S\n",
      "6 S S S S S S S S S\n",
      "7 S S S S S S S S S\n",
      "\n",
      "Enter the number corresponding to what you want to choose:\n",
      "\n",
      "1. Show the seats\n",
      "2. Buy a Ticket\n",
      "3. Statistics\n",
      "4. Show Booked Tickets User Info\n",
      "0.Exit\n",
      "2\n",
      "Enter the row you want to book\n",
      "7\n",
      "Enter the column you want to book\n",
      "1\n",
      "Ticket per person is $8, do you want to proceed ahead? Press Y/y\n",
      "y\n",
      "For Booking, Enter your name\n",
      "Ranjit\n",
      "Enter your gender\n",
      "Male\n",
      "Enter your Age\n",
      "23\n",
      "Enter your Phone Number\n",
      "8987652\n",
      "Booked Successfully!!\n",
      "\n",
      "Enter the number corresponding to what you want to choose:\n",
      "\n",
      "1. Show the seats\n",
      "2. Buy a Ticket\n",
      "3. Statistics\n",
      "4. Show Booked Tickets User Info\n",
      "0.Exit\n",
      "3\n",
      "Number of Purchased Tickets:  1\n",
      "Percentage of Tickets booked  1.59\n",
      "Current Income:  8\n",
      "Total Income:  558\n",
      "\n",
      "Enter the number corresponding to what you want to choose:\n",
      "\n",
      "1. Show the seats\n",
      "2. Buy a Ticket\n",
      "3. Statistics\n",
      "4. Show Booked Tickets User Info\n",
      "0.Exit\n",
      "2\n",
      "Enter the row you want to book\n",
      "1\n",
      "Enter the column you want to book\n",
      "1\n",
      "Ticket per person is $10, do you want to proceed ahead? Press Y/y\n",
      "y\n",
      "For Booking, Enter your name\n",
      "Manjit\n",
      "Enter your gender\n",
      "Female\n",
      "Enter your Age\n",
      "18\n",
      "Enter your Phone Number\n",
      "3428989342\n",
      "Booked Successfully!!\n",
      "\n",
      "Enter the number corresponding to what you want to choose:\n",
      "\n",
      "1. Show the seats\n",
      "2. Buy a Ticket\n",
      "3. Statistics\n",
      "4. Show Booked Tickets User Info\n",
      "0.Exit\n",
      "3\n",
      "Number of Purchased Tickets:  2\n",
      "Percentage of Tickets booked  3.17\n",
      "Current Income:  18\n",
      "Total Income:  558\n",
      "\n",
      "Enter the number corresponding to what you want to choose:\n",
      "\n",
      "1. Show the seats\n",
      "2. Buy a Ticket\n",
      "3. Statistics\n",
      "4. Show Booked Tickets User Info\n",
      "0.Exit\n",
      "4\n",
      "Enter the row you booked\n",
      "5\n",
      "Enter the col you booked\n",
      "5\n",
      "This seat is not booked yet!\n",
      "\n",
      "Enter the number corresponding to what you want to choose:\n",
      "\n",
      "1. Show the seats\n",
      "2. Buy a Ticket\n",
      "3. Statistics\n",
      "4. Show Booked Tickets User Info\n",
      "0.Exit\n",
      "4\n",
      "Enter the row you booked\n",
      "7\n",
      "Enter the col you booked\n",
      "1\n",
      "Name:  Ranjit\n",
      "Gender:  Male\n",
      "Age:  23\n",
      "Phone No:  8987652\n",
      "Ticket Price:  8\n",
      "\n",
      "Enter the number corresponding to what you want to choose:\n",
      "\n",
      "1. Show the seats\n",
      "2. Buy a Ticket\n",
      "3. Statistics\n",
      "4. Show Booked Tickets User Info\n",
      "0.Exit\n",
      "4\n",
      "Enter the row you booked\n",
      "1\n",
      "Enter the col you booked\n",
      "1\n",
      "Name:  Manjit\n",
      "Gender:  Female\n",
      "Age:  18\n",
      "Phone No:  3428989342\n",
      "Ticket Price:  10\n",
      "\n",
      "Enter the number corresponding to what you want to choose:\n",
      "\n",
      "1. Show the seats\n",
      "2. Buy a Ticket\n",
      "3. Statistics\n",
      "4. Show Booked Tickets User Info\n",
      "0.Exit\n",
      "1\n",
      "\n",
      "Cinema:\n",
      "  1 2 3 4 5 6 7 8 9 \n",
      "1 B S S S S S S S S\n",
      "2 S S S S S S S S S\n",
      "3 S S S S S S S S S\n",
      "4 S S S S S S S S S\n",
      "5 S S S S S S S S S\n",
      "6 S S S S S S S S S\n",
      "7 B S S S S S S S S\n",
      "\n",
      "Enter the number corresponding to what you want to choose:\n",
      "\n",
      "1. Show the seats\n",
      "2. Buy a Ticket\n",
      "3. Statistics\n",
      "4. Show Booked Tickets User Info\n",
      "0.Exit\n",
      "0\n"
     ]
    }
   ],
   "source": [
    "obj = bookmymovie()\n",
    "obj.menu()"
   ]
  },
  {
   "cell_type": "code",
   "execution_count": 33,
   "metadata": {},
   "outputs": [
    {
     "data": {
      "text/plain": [
       "558"
      ]
     },
     "execution_count": 33,
     "metadata": {},
     "output_type": "execute_result"
    }
   ],
   "source": [
    "288+270"
   ]
  },
  {
   "cell_type": "code",
   "execution_count": 15,
   "metadata": {},
   "outputs": [],
   "source": [
    "# {(4,5):['Ranjit',23,'Male',43233,8]}"
   ]
  },
  {
   "cell_type": "code",
   "execution_count": 21,
   "metadata": {},
   "outputs": [
    {
     "name": "stdout",
     "output_type": "stream",
     "text": [
      "Enter the number of rows\n",
      "5\n",
      "Enter the number of seats in each row\n",
      "8\n",
      "[['S', 'S', 'S', 'S', 'S', 'S', 'S', 'S'], ['S', 'S', 'S', 'S', 'S', 'S', 'S', 'S'], ['S', 'S', 'S', 'S', 'S', 'S', 'S', 'S'], ['S', 'S', 'S', 'S', 'S', 'S', 'S', 'S'], ['S', 'S', 'S', 'S', 'S', 'S', 'S', 'S']]\n",
      "\n",
      "Cinema:\n",
      "  1 2 3 4 5 6 7 8 \n",
      "1 S S S S S S S S\n",
      "2 S S S S S S S S\n",
      "3 S S S S S S S S\n",
      "4 S S S S S S S S\n",
      "5 S S S S S S S S\n"
     ]
    }
   ],
   "source": [
    "obj = bookmymovie()\n",
    "obj.show_seats()"
   ]
  },
  {
   "cell_type": "code",
   "execution_count": 23,
   "metadata": {},
   "outputs": [
    {
     "name": "stdout",
     "output_type": "stream",
     "text": [
      "Enter the row you want to book\n",
      "5\n",
      "Enter the column you want to book\n",
      "5\n",
      "Ticket per person is $10, do you want to proceed ahead? Press Y/y\n",
      "y\n",
      "For Booking, Enter your name\n",
      "Ranjit\n",
      "Enter your gender\n",
      "Male\n",
      "Enter your Age\n",
      "23\n",
      "Enter your Phone Number\n",
      "34898934\n",
      "Booked Successfully!!\n"
     ]
    }
   ],
   "source": [
    "obj.buy()"
   ]
  },
  {
   "cell_type": "code",
   "execution_count": 24,
   "metadata": {},
   "outputs": [
    {
     "name": "stdout",
     "output_type": "stream",
     "text": [
      "Enter the row you booked\n",
      "5\n",
      "Enter the col you booked\n",
      "5\n",
      "Name:  Ranjit\n",
      "Gender:  Male\n",
      "Age:  23\n",
      "Phone No:  34898934\n",
      "Ticket Price:  10\n"
     ]
    }
   ],
   "source": [
    "obj.info()"
   ]
  },
  {
   "cell_type": "code",
   "execution_count": 25,
   "metadata": {},
   "outputs": [
    {
     "name": "stdout",
     "output_type": "stream",
     "text": [
      "\n",
      "Cinema:\n",
      "  1 2 3 4 5 6 7 8 \n",
      "1 S S S S S S S S\n",
      "2 S S S S S S S S\n",
      "3 S S S S S S S S\n",
      "4 S S S S S S S S\n",
      "5 S S S S B S S S\n"
     ]
    }
   ],
   "source": [
    "obj.show_seats()"
   ]
  },
  {
   "cell_type": "code",
   "execution_count": 26,
   "metadata": {},
   "outputs": [
    {
     "name": "stdout",
     "output_type": "stream",
     "text": [
      "Enter the row you want to book\n",
      "5\n",
      "Enter the column you want to book\n",
      "6\n",
      "Ticket per person is $10, do you want to proceed ahead? Press Y/y\n",
      "y\n",
      "For Booking, Enter your name\n",
      "Manjit\n",
      "Enter your gender\n",
      "Female\n",
      "Enter your Age\n",
      "18\n",
      "Enter your Phone Number\n",
      "32342342\n",
      "Booked Successfully!!\n"
     ]
    }
   ],
   "source": [
    "obj.buy()"
   ]
  },
  {
   "cell_type": "code",
   "execution_count": 27,
   "metadata": {},
   "outputs": [
    {
     "name": "stdout",
     "output_type": "stream",
     "text": [
      "\n",
      "Cinema:\n",
      "  1 2 3 4 5 6 7 8 \n",
      "1 S S S S S S S S\n",
      "2 S S S S S S S S\n",
      "3 S S S S S S S S\n",
      "4 S S S S S S S S\n",
      "5 S S S S B B S S\n"
     ]
    }
   ],
   "source": [
    "obj.show_seats()"
   ]
  },
  {
   "cell_type": "code",
   "execution_count": 28,
   "metadata": {},
   "outputs": [
    {
     "name": "stdout",
     "output_type": "stream",
     "text": [
      "Enter the row you booked\n",
      "5\n",
      "Enter the col you booked\n",
      "6\n",
      "Name:  Manjit\n",
      "Gender:  Female\n",
      "Age:  18\n",
      "Phone No:  32342342\n",
      "Ticket Price:  10\n"
     ]
    }
   ],
   "source": [
    "obj.info()"
   ]
  },
  {
   "cell_type": "code",
   "execution_count": 29,
   "metadata": {},
   "outputs": [
    {
     "name": "stdout",
     "output_type": "stream",
     "text": [
      "Enter the row you booked\n",
      "5\n",
      "Enter the col you booked\n",
      "5\n",
      "Name:  Ranjit\n",
      "Gender:  Male\n",
      "Age:  23\n",
      "Phone No:  34898934\n",
      "Ticket Price:  10\n"
     ]
    }
   ],
   "source": [
    "obj.info()"
   ]
  },
  {
   "cell_type": "code",
   "execution_count": null,
   "metadata": {},
   "outputs": [],
   "source": [
    "# Class user:\n",
    "      obj = bookmymovie\n",
    "#     def book a ticket\n",
    "#     \n",
    "#     def see only his booked"
   ]
  }
 ],
 "metadata": {
  "kernelspec": {
   "display_name": "Python 3",
   "language": "python",
   "name": "python3"
  },
  "language_info": {
   "codemirror_mode": {
    "name": "ipython",
    "version": 3
   },
   "file_extension": ".py",
   "mimetype": "text/x-python",
   "name": "python",
   "nbconvert_exporter": "python",
   "pygments_lexer": "ipython3",
   "version": "3.8.3"
  }
 },
 "nbformat": 4,
 "nbformat_minor": 4
}
