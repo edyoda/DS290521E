{
 "cells": [
  {
   "cell_type": "code",
   "execution_count": null,
   "metadata": {},
   "outputs": [],
   "source": [
    "try:\n",
    "    print(2+\"a\")\n",
    "except NameError:\n",
    "    print(\"exception\")\n",
    "except ZeroDivisionError:\n",
    "    print(\"exception2\")\n",
    "except:\n",
    "    print(\"3rd error\")\n",
    "else:\n",
    "    print(\"4th error\")"
   ]
  },
  {
   "cell_type": "code",
   "execution_count": null,
   "metadata": {},
   "outputs": [],
   "source": [
    "import pandas as pd\n",
    "import numpy"
   ]
  },
  {
   "cell_type": "code",
   "execution_count": null,
   "metadata": {},
   "outputs": [],
   "source": [
    "def all_even():\n",
    "    n=2\n",
    "    while True:\n",
    "        yield n\n",
    "        n+=2"
   ]
  },
  {
   "cell_type": "code",
   "execution_count": null,
   "metadata": {},
   "outputs": [],
   "source": [
    "x = all_even()"
   ]
  },
  {
   "cell_type": "code",
   "execution_count": null,
   "metadata": {},
   "outputs": [],
   "source": [
    "next(x)"
   ]
  },
  {
   "cell_type": "code",
   "execution_count": null,
   "metadata": {},
   "outputs": [],
   "source": [
    "#f.read(10)\n",
    "#f.readline()\n",
    "#f.close()\n",
    "#f.read()\n",
    "\n",
    "#change current directory\n",
    "\n",
    "\n",
    "import os\n",
    "os.chdir(\"C:\\Yogesh\\EDYODA\")\n",
    "#C\n",
    "#mode  r w a x\n",
    "# two main arguments\n",
    "\n",
    "\n",
    "# open (arguments,mode)\n",
    "\n",
    "with open(\"Text.txt\", \"w\")   as f:\n",
    "    f.write(\"if you want to Overwrite something\")\n",
    "\n"
   ]
  },
  {
   "cell_type": "code",
   "execution_count": null,
   "metadata": {},
   "outputs": [],
   "source": [
    "f  = open(\"Text.txt\",\"w\")    \n",
    "f.read()"
   ]
  },
  {
   "cell_type": "code",
   "execution_count": null,
   "metadata": {},
   "outputs": [],
   "source": [
    "f.write(\"overwrite\")\n",
    "f.close()"
   ]
  },
  {
   "cell_type": "code",
   "execution_count": null,
   "metadata": {},
   "outputs": [],
   "source": [
    "finally: \n",
    "    f.close()"
   ]
  },
  {
   "cell_type": "code",
   "execution_count": null,
   "metadata": {},
   "outputs": [],
   "source": [
    "import csv"
   ]
  },
  {
   "cell_type": "code",
   "execution_count": null,
   "metadata": {},
   "outputs": [],
   "source": [
    "with open (\"IRIS.csv\",\"r\") as file:\n",
    "    f = csv.reader(file)\n",
    "    for row in f:\n",
    "        print(row[])"
   ]
  },
  {
   "cell_type": "code",
   "execution_count": null,
   "metadata": {},
   "outputs": [],
   "source": [
    "# reading csv with Pandas\n",
    "import pandas as pd"
   ]
  },
  {
   "cell_type": "code",
   "execution_count": null,
   "metadata": {},
   "outputs": [],
   "source": [
    "df = pd.read_csv(\"IRIS.csv\")"
   ]
  },
  {
   "cell_type": "code",
   "execution_count": null,
   "metadata": {},
   "outputs": [],
   "source": [
    "df.head(5)"
   ]
  },
  {
   "cell_type": "code",
   "execution_count": null,
   "metadata": {},
   "outputs": [],
   "source": [
    "#Writing /downloading a csv\n",
    "\n",
    "data = [[\"TOM\",10],[\"Jerry\",5],[\"MINI\",3]]\n",
    "type(data)\n",
    "df1 = pd.DataFrame(data,columns=[\"CHAR\",\"RATING\"])\n",
    "df1.head()\n",
    "df1.to_csv(\"LIVE2.csv\",index=False)"
   ]
  },
  {
   "cell_type": "code",
   "execution_count": null,
   "metadata": {},
   "outputs": [],
   "source": [
    "#JSON\n",
    "\n",
    "data = {\"size\":\"medium\",\n",
    "       \"price\": 15,\n",
    "        \"topping\" : ['mushroom',\"olive\",\"basil\"],\n",
    "        \"extra_cheese\":False\n",
    "       }"
   ]
  },
  {
   "cell_type": "code",
   "execution_count": null,
   "metadata": {},
   "outputs": [],
   "source": [
    "data\n",
    "import json"
   ]
  },
  {
   "cell_type": "code",
   "execution_count": null,
   "metadata": {},
   "outputs": [],
   "source": [
    "with open(\"TEXT1.json\",\"r\") as file:\n",
    "    data = json.load(file)\n",
    "    print(data['orders'][1]['client'])"
   ]
  },
  {
   "cell_type": "code",
   "execution_count": null,
   "metadata": {},
   "outputs": [],
   "source": [
    "df = pd.read_json(\"TEXT1.json\")\n",
    "df"
   ]
  },
  {
   "cell_type": "code",
   "execution_count": null,
   "metadata": {},
   "outputs": [],
   "source": [
    "with open(\"TEXT_new.json\",\"w\") as file:\n",
    "    json.dump(data,file)"
   ]
  },
  {
   "cell_type": "code",
   "execution_count": null,
   "metadata": {},
   "outputs": [],
   "source": [
    "import xml.etree.ElementTree as ET"
   ]
  },
  {
   "cell_type": "code",
   "execution_count": null,
   "metadata": {},
   "outputs": [],
   "source": [
    "tree =  ET.parse(\"movies.xml\")"
   ]
  },
  {
   "cell_type": "code",
   "execution_count": null,
   "metadata": {},
   "outputs": [],
   "source": [
    "root = tree.getroot()"
   ]
  },
  {
   "cell_type": "code",
   "execution_count": null,
   "metadata": {},
   "outputs": [],
   "source": [
    "for child in root:\n",
    "    print(child.tag)"
   ]
  },
  {
   "cell_type": "code",
   "execution_count": null,
   "metadata": {
    "scrolled": true
   },
   "outputs": [],
   "source": [
    "for elem in root:\n",
    "    for subelem in elem:\n",
    "        print(subelem.attrib)"
   ]
  },
  {
   "cell_type": "code",
   "execution_count": null,
   "metadata": {},
   "outputs": [],
   "source": [
    "# JSON CSV XML\n",
    "# open (filename, mode)\n",
    "#mode = r w a x\n",
    "#import json-----json.load()\n",
    "#import csv------csv.reader()\n",
    "#import ET from XML parse ...for loops\n",
    "\n",
    "#.txt -----read(5), readlines(), \n",
    "#f.close()------use finally:\n",
    "\n",
    "\n"
   ]
  },
  {
   "cell_type": "code",
   "execution_count": null,
   "metadata": {},
   "outputs": [],
   "source": [
    "# to get through the hierarchy\n",
    "for i in root:\n",
    "    row=[]\n",
    "    name = i.find(\"name\").text\n",
    "    phone = i.find(\"phone\").text\n",
    "    \n",
    "    row.append({\"name\":name,\"phone\":phone})\n",
    "    \n",
    "    print(row)\n",
    "    \n",
    "    \n",
    "column = [\"name\",\"phone\"]\n",
    "\n",
    "df = pd.DataFrame(row,columns=column)\n",
    "\n",
    "df.to_csv(\"LIVE20-E.csv\")"
   ]
  }
 ],
 "metadata": {
  "kernelspec": {
   "display_name": "Python 3",
   "language": "python",
   "name": "python3"
  },
  "language_info": {
   "codemirror_mode": {
    "name": "ipython",
    "version": 3
   },
   "file_extension": ".py",
   "mimetype": "text/x-python",
   "name": "python",
   "nbconvert_exporter": "python",
   "pygments_lexer": "ipython3",
   "version": "3.6.4"
  }
 },
 "nbformat": 4,
 "nbformat_minor": 2
}
